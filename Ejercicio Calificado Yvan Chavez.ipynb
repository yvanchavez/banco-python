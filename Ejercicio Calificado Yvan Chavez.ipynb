{
 "cells": [
  {
   "cell_type": "markdown",
   "metadata": {},
   "source": [
    "### Enunciado Gestion de Usuarios \n",
    "Crear una aplicacion en python para un banco que me permita gestionar la informacion de sus usuarios de la siguiente forma.\n",
    "Debera tener un menu de opciones con estas posibilidades:\n",
    "- 1.-Agregar Nuevos Usuarios\n",
    "- 2.-Visualizar Nuevos Usuarios\n",
    "- 3.-Salir<br><br><br>\n",
    "\n",
    "- **Indicaciones**\n",
    " ******************\n",
    "- 1.-La Primera Opcion me permitira añadir nuevos usuarios a una lista\n",
    "   validacion : no podre agregar 2 usuarios con el mismo DNI\n",
    "- 2.-La Segunda Opcion me permitira visualizar los datos de Los usuarios\n",
    "   buscandolo por Dni\n",
    "- 3.-Si se ingresa una opcion invalida el programa me indicara \n",
    "   que la opcion es invalida y que lo intente de nuevo\n",
    "   mostrandome el menu nuevamente.\n",
    "- 4.-Si el usuario elige la tercera opcion se terminara el proceso\n",
    "\n",
    "![Imagen](examen.png)\n"
   ]
  },
  {
   "cell_type": "code",
   "execution_count": 3,
   "metadata": {},
   "outputs": [],
   "source": [
    "class Cliente():\n",
    "    def __init__(self,nombre,apellidos,dni):\n",
    "        self.nombre = nombre\n",
    "        self.apellidos=apellidos\n",
    "        self.dni=dni\n",
    "        \n",
    "    def __str__(self):\n",
    "        return \"Cliente: \"+str(self.nombre)+\" \"+str(self.apellidos)+\" dni:\"+str(self.dni)"
   ]
  },
  {
   "cell_type": "code",
   "execution_count": 4,
   "metadata": {},
   "outputs": [],
   "source": [
    "class Banco():\n",
    "    def __init__(self):\n",
    "        self.usuarios = []\n",
    "        \n",
    "    def agregarCliente(self,cliente):\n",
    "        if(self.buscarPorDni(cliente.dni)):\n",
    "            print(\"El usuario ya existe\")\n",
    "        else:\n",
    "            self.usuarios.append(cliente)\n",
    "                     \n",
    "        \n",
    "    def buscarPorDni(self,dni):\n",
    "        for usuario in self.usuarios:\n",
    "            if usuario.dni == dni:\n",
    "                print(usuario)\n",
    "                return True\n",
    "            elif usuario.dni != dni:\n",
    "                print(\"Usuario no encontrado\")\n",
    "                return False\n",
    "        \n",
    "        "
   ]
  },
  {
   "cell_type": "code",
   "execution_count": null,
   "metadata": {},
   "outputs": [
    {
     "name": "stdout",
     "output_type": "stream",
     "text": [
      "Selecciona una opción\n",
      "\t1 - Agregar Nuevos Usuarios\n",
      "\t2 - Visualizar Nuevos Usuarios\n",
      "\t3 - Salir\n"
     ]
    }
   ],
   "source": [
    "\n",
    "\n",
    "banco=Banco()\n",
    "\n",
    "def menu():\n",
    "    print (\"Selecciona una opción\")\n",
    "    print (\"\\t1 - Agregar Nuevos Usuarios\")\n",
    "    print (\"\\t2 - Visualizar Nuevos Usuarios\")\n",
    "    print (\"\\t3 - Salir\")\n",
    " \n",
    " \n",
    "while True:\n",
    "    menu()\n",
    "    opcionMenu = input(\"inserta un numero valor >> \")\n",
    "    if opcionMenu == \"1\":\n",
    "        nombre = input(\"Ingrese nombre: \")\n",
    "        apellidos = input(\"Ingrese apellidos: \")\n",
    "        dni = input(\"Ingrese dni: \")        \n",
    "        cliente = Cliente(nombre,apellidos,dni)\n",
    "        banco.agregarCliente(cliente)\n",
    "        \n",
    "    elif opcionMenu==\"2\":\n",
    "        dni=input(\"Ingresa el dni:\")\n",
    "        banco.buscarPorDni(dni)\n",
    "        \n",
    "    elif opcionMenu==\"3\":\n",
    "        print (\"Fin del programa...\")\n",
    "        break\n",
    "    else:\n",
    "        print (\"\")\n",
    "        input(\"No has pulsado ninguna opción correcta...\\npulsa una tecla para continuar\")"
   ]
  },
  {
   "cell_type": "code",
   "execution_count": null,
   "metadata": {},
   "outputs": [],
   "source": []
  }
 ],
 "metadata": {
  "kernelspec": {
   "display_name": "Python 3",
   "language": "python",
   "name": "python3"
  },
  "language_info": {
   "codemirror_mode": {
    "name": "ipython",
    "version": 3
   },
   "file_extension": ".py",
   "mimetype": "text/x-python",
   "name": "python",
   "nbconvert_exporter": "python",
   "pygments_lexer": "ipython3",
   "version": "3.8.3"
  }
 },
 "nbformat": 4,
 "nbformat_minor": 4
}
